{
 "cells": [
  {
   "cell_type": "code",
   "execution_count": 1,
   "metadata": {},
   "outputs": [
    {
     "ename": "ImportError",
     "evalue": "cannot import name 'plot_confusion_matrix' from 'sklearn.metrics' (C:\\Users\\1011s\\AppData\\Local\\Programs\\Python\\Python311\\Lib\\site-packages\\sklearn\\metrics\\__init__.py)",
     "output_type": "error",
     "traceback": [
      "\u001b[1;31m---------------------------------------------------------------------------\u001b[0m",
      "\u001b[1;31mImportError\u001b[0m                               Traceback (most recent call last)",
      "Cell \u001b[1;32mIn[1], line 5\u001b[0m\n\u001b[0;32m      3\u001b[0m \u001b[38;5;28;01mfrom\u001b[39;00m \u001b[38;5;21;01msklearn\u001b[39;00m\u001b[38;5;21;01m.\u001b[39;00m\u001b[38;5;21;01mmodel_selection\u001b[39;00m \u001b[38;5;28;01mimport\u001b[39;00m train_test_split\n\u001b[0;32m      4\u001b[0m \u001b[38;5;28;01mfrom\u001b[39;00m \u001b[38;5;21;01msklearn\u001b[39;00m\u001b[38;5;21;01m.\u001b[39;00m\u001b[38;5;21;01mpreprocessing\u001b[39;00m \u001b[38;5;28;01mimport\u001b[39;00m \u001b[38;5;241m*\u001b[39m\n\u001b[1;32m----> 5\u001b[0m \u001b[38;5;28;01mfrom\u001b[39;00m \u001b[38;5;21;01msklearn\u001b[39;00m\u001b[38;5;21;01m.\u001b[39;00m\u001b[38;5;21;01mmetrics\u001b[39;00m \u001b[38;5;28;01mimport\u001b[39;00m confusion_matrix,plot_confusion_matrix\n",
      "\u001b[1;31mImportError\u001b[0m: cannot import name 'plot_confusion_matrix' from 'sklearn.metrics' (C:\\Users\\1011s\\AppData\\Local\\Programs\\Python\\Python311\\Lib\\site-packages\\sklearn\\metrics\\__init__.py)"
     ]
    }
   ],
   "source": [
    "import numpy as np\n",
    "import pandas as pd\n",
    "from sklearn.model_selection import train_test_split\n",
    "from sklearn.preprocessing import *\n",
    "from sklearn.metrics import confusion_matrix,plot_confusion_matrix"
   ]
  },
  {
   "cell_type": "markdown",
   "metadata": {},
   "source": [
    "# Importing Dataset"
   ]
  },
  {
   "cell_type": "code",
   "execution_count": 2,
   "metadata": {},
   "outputs": [],
   "source": [
    "df = pd.read_csv(\"D:\\Office\\Course\\ML/adult.csv\")"
   ]
  },
  {
   "cell_type": "markdown",
   "metadata": {},
   "source": [
    "# EDA"
   ]
  },
  {
   "cell_type": "code",
   "execution_count": null,
   "metadata": {
    "execution": {
     "iopub.execute_input": "2022-10-20T21:58:21.640667Z",
     "iopub.status.busy": "2022-10-20T21:58:21.639575Z",
     "iopub.status.idle": "2022-10-20T21:58:21.663608Z",
     "shell.execute_reply": "2022-10-20T21:58:21.662220Z",
     "shell.execute_reply.started": "2022-10-20T21:58:21.640616Z"
    }
   },
   "outputs": [],
   "source": [
    "df.head()"
   ]
  },
  {
   "cell_type": "code",
   "execution_count": null,
   "metadata": {
    "execution": {
     "iopub.execute_input": "2022-10-20T21:58:24.667799Z",
     "iopub.status.busy": "2022-10-20T21:58:24.667403Z",
     "iopub.status.idle": "2022-10-20T21:58:24.675006Z",
     "shell.execute_reply": "2022-10-20T21:58:24.673759Z",
     "shell.execute_reply.started": "2022-10-20T21:58:24.667766Z"
    }
   },
   "outputs": [],
   "source": [
    "df.shape"
   ]
  },
  {
   "cell_type": "code",
   "execution_count": null,
   "metadata": {
    "execution": {
     "iopub.execute_input": "2022-10-20T21:58:26.658515Z",
     "iopub.status.busy": "2022-10-20T21:58:26.658140Z",
     "iopub.status.idle": "2022-10-20T21:58:26.703426Z",
     "shell.execute_reply": "2022-10-20T21:58:26.702218Z",
     "shell.execute_reply.started": "2022-10-20T21:58:26.658483Z"
    }
   },
   "outputs": [],
   "source": [
    "df.info()"
   ]
  },
  {
   "cell_type": "code",
   "execution_count": null,
   "metadata": {
    "execution": {
     "iopub.execute_input": "2022-10-20T21:58:27.495198Z",
     "iopub.status.busy": "2022-10-20T21:58:27.494732Z",
     "iopub.status.idle": "2022-10-20T21:58:27.524348Z",
     "shell.execute_reply": "2022-10-20T21:58:27.523335Z",
     "shell.execute_reply.started": "2022-10-20T21:58:27.495159Z"
    },
    "scrolled": true
   },
   "outputs": [],
   "source": [
    "df.isnull().sum()"
   ]
  },
  {
   "cell_type": "code",
   "execution_count": null,
   "metadata": {
    "execution": {
     "iopub.execute_input": "2022-10-20T21:58:28.153694Z",
     "iopub.status.busy": "2022-10-20T21:58:28.152927Z",
     "iopub.status.idle": "2022-10-20T21:58:28.166750Z",
     "shell.execute_reply": "2022-10-20T21:58:28.165383Z",
     "shell.execute_reply.started": "2022-10-20T21:58:28.153643Z"
    }
   },
   "outputs": [],
   "source": [
    "df['workclass'].value_counts()"
   ]
  },
  {
   "cell_type": "code",
   "execution_count": null,
   "metadata": {
    "execution": {
     "iopub.execute_input": "2022-10-20T21:58:28.754924Z",
     "iopub.status.busy": "2022-10-20T21:58:28.754493Z",
     "iopub.status.idle": "2022-10-20T21:58:28.772938Z",
     "shell.execute_reply": "2022-10-20T21:58:28.771686Z",
     "shell.execute_reply.started": "2022-10-20T21:58:28.754864Z"
    }
   },
   "outputs": [],
   "source": [
    "df.replace('?' ,np.NaN ,inplace=True)"
   ]
  },
  {
   "cell_type": "code",
   "execution_count": null,
   "metadata": {
    "execution": {
     "iopub.execute_input": "2022-10-20T21:58:29.387946Z",
     "iopub.status.busy": "2022-10-20T21:58:29.387064Z",
     "iopub.status.idle": "2022-10-20T21:58:29.402798Z",
     "shell.execute_reply": "2022-10-20T21:58:29.401158Z",
     "shell.execute_reply.started": "2022-10-20T21:58:29.387879Z"
    }
   },
   "outputs": [],
   "source": [
    "df['workclass'].value_counts()"
   ]
  },
  {
   "cell_type": "code",
   "execution_count": null,
   "metadata": {
    "execution": {
     "iopub.execute_input": "2022-10-20T21:58:30.007936Z",
     "iopub.status.busy": "2022-10-20T21:58:30.007471Z",
     "iopub.status.idle": "2022-10-20T21:58:30.019218Z",
     "shell.execute_reply": "2022-10-20T21:58:30.017782Z",
     "shell.execute_reply.started": "2022-10-20T21:58:30.007896Z"
    }
   },
   "outputs": [],
   "source": [
    "df.occupation.unique()"
   ]
  },
  {
   "cell_type": "code",
   "execution_count": null,
   "metadata": {
    "execution": {
     "iopub.execute_input": "2022-10-20T21:59:12.377576Z",
     "iopub.status.busy": "2022-10-20T21:59:12.377163Z",
     "iopub.status.idle": "2022-10-20T21:59:12.387786Z",
     "shell.execute_reply": "2022-10-20T21:59:12.386363Z",
     "shell.execute_reply.started": "2022-10-20T21:59:12.377542Z"
    }
   },
   "outputs": [],
   "source": [
    "df['native-country'].unique()"
   ]
  },
  {
   "cell_type": "code",
   "execution_count": null,
   "metadata": {
    "execution": {
     "iopub.execute_input": "2022-10-20T21:59:13.236866Z",
     "iopub.status.busy": "2022-10-20T21:59:13.236456Z",
     "iopub.status.idle": "2022-10-20T21:59:13.269041Z",
     "shell.execute_reply": "2022-10-20T21:59:13.267214Z",
     "shell.execute_reply.started": "2022-10-20T21:59:13.236830Z"
    }
   },
   "outputs": [],
   "source": [
    "df.isnull().sum()"
   ]
  },
  {
   "cell_type": "code",
   "execution_count": null,
   "metadata": {
    "execution": {
     "iopub.execute_input": "2022-10-20T21:59:26.684365Z",
     "iopub.status.busy": "2022-10-20T21:59:26.683210Z",
     "iopub.status.idle": "2022-10-20T21:59:26.713072Z",
     "shell.execute_reply": "2022-10-20T21:59:26.711395Z",
     "shell.execute_reply.started": "2022-10-20T21:59:26.684277Z"
    }
   },
   "outputs": [],
   "source": [
    "df['workclass'].fillna(df['workclass'].mode()[0], inplace=True)\n",
    "df['occupation'].fillna(df['occupation'].mode()[0], inplace=True)\n",
    "df['native-country'].fillna(df['native-country'].mode()[0], inplace=True)    "
   ]
  },
  {
   "cell_type": "code",
   "execution_count": null,
   "metadata": {
    "execution": {
     "iopub.execute_input": "2022-10-20T21:59:27.655777Z",
     "iopub.status.busy": "2022-10-20T21:59:27.655388Z",
     "iopub.status.idle": "2022-10-20T21:59:27.688500Z",
     "shell.execute_reply": "2022-10-20T21:59:27.686976Z",
     "shell.execute_reply.started": "2022-10-20T21:59:27.655746Z"
    }
   },
   "outputs": [],
   "source": [
    "df.isnull().sum()"
   ]
  },
  {
   "cell_type": "code",
   "execution_count": null,
   "metadata": {
    "execution": {
     "iopub.execute_input": "2022-10-20T21:59:28.547619Z",
     "iopub.status.busy": "2022-10-20T21:59:28.547203Z",
     "iopub.status.idle": "2022-10-20T21:59:28.560870Z",
     "shell.execute_reply": "2022-10-20T21:59:28.559389Z",
     "shell.execute_reply.started": "2022-10-20T21:59:28.547583Z"
    },
    "scrolled": true
   },
   "outputs": [],
   "source": [
    "df['income'].value_counts()"
   ]
  },
  {
   "cell_type": "code",
   "execution_count": null,
   "metadata": {
    "execution": {
     "iopub.execute_input": "2022-10-20T21:59:30.794708Z",
     "iopub.status.busy": "2022-10-20T21:59:30.794226Z",
     "iopub.status.idle": "2022-10-20T21:59:30.821343Z",
     "shell.execute_reply": "2022-10-20T21:59:30.820099Z",
     "shell.execute_reply.started": "2022-10-20T21:59:30.794662Z"
    }
   },
   "outputs": [],
   "source": [
    "X = df.drop('income' ,axis=1)\n",
    "Y = df['income']"
   ]
  },
  {
   "cell_type": "code",
   "execution_count": null,
   "metadata": {
    "execution": {
     "iopub.execute_input": "2022-10-20T21:59:31.905259Z",
     "iopub.status.busy": "2022-10-20T21:59:31.904840Z",
     "iopub.status.idle": "2022-10-20T21:59:31.912727Z",
     "shell.execute_reply": "2022-10-20T21:59:31.911842Z",
     "shell.execute_reply.started": "2022-10-20T21:59:31.905227Z"
    }
   },
   "outputs": [],
   "source": [
    "X.columns"
   ]
  },
  {
   "cell_type": "code",
   "execution_count": null,
   "metadata": {
    "execution": {
     "iopub.execute_input": "2022-10-20T21:59:34.345627Z",
     "iopub.status.busy": "2022-10-20T21:59:34.344971Z",
     "iopub.status.idle": "2022-10-20T21:59:34.379478Z",
     "shell.execute_reply": "2022-10-20T21:59:34.378251Z",
     "shell.execute_reply.started": "2022-10-20T21:59:34.345581Z"
    }
   },
   "outputs": [],
   "source": [
    "X.info()"
   ]
  },
  {
   "cell_type": "code",
   "execution_count": null,
   "metadata": {
    "execution": {
     "iopub.execute_input": "2022-10-20T22:00:05.965796Z",
     "iopub.status.busy": "2022-10-20T22:00:05.965363Z",
     "iopub.status.idle": "2022-10-20T22:00:06.061841Z",
     "shell.execute_reply": "2022-10-20T22:00:06.059734Z",
     "shell.execute_reply.started": "2022-10-20T22:00:05.965760Z"
    }
   },
   "outputs": [],
   "source": [
    "X_encoded=pd.get_dummies(X ,columns=['workclass' ,'education' ,'marital-status' ,'occupation' ,'relationship' ,'race' ,'gender' ,'native-country'])"
   ]
  },
  {
   "cell_type": "code",
   "execution_count": null,
   "metadata": {
    "execution": {
     "iopub.execute_input": "2022-10-20T22:00:06.963690Z",
     "iopub.status.busy": "2022-10-20T22:00:06.963212Z",
     "iopub.status.idle": "2022-10-20T22:00:07.201109Z",
     "shell.execute_reply": "2022-10-20T22:00:07.199756Z",
     "shell.execute_reply.started": "2022-10-20T22:00:06.963653Z"
    }
   },
   "outputs": [],
   "source": [
    "rb = RobustScaler()\n",
    "X_encoded =rb.fit_transform(X_encoded)"
   ]
  },
  {
   "cell_type": "code",
   "execution_count": null,
   "metadata": {
    "execution": {
     "iopub.execute_input": "2022-10-20T22:00:10.001970Z",
     "iopub.status.busy": "2022-10-20T22:00:10.000786Z",
     "iopub.status.idle": "2022-10-20T22:00:10.130487Z",
     "shell.execute_reply": "2022-10-20T22:00:10.129199Z",
     "shell.execute_reply.started": "2022-10-20T22:00:10.001830Z"
    }
   },
   "outputs": [],
   "source": [
    "X_train ,X_test , Y_train , Y_test = train_test_split(X_encoded ,Y ,test_size=0.3 ,random_state=42  ,stratify=Y)"
   ]
  },
  {
   "cell_type": "code",
   "execution_count": null,
   "metadata": {
    "execution": {
     "iopub.execute_input": "2022-10-20T22:00:10.559801Z",
     "iopub.status.busy": "2022-10-20T22:00:10.559414Z",
     "iopub.status.idle": "2022-10-20T22:00:10.566303Z",
     "shell.execute_reply": "2022-10-20T22:00:10.564944Z",
     "shell.execute_reply.started": "2022-10-20T22:00:10.559770Z"
    }
   },
   "outputs": [],
   "source": [
    "print(X_train.shape ,\" \",X_test.shape)"
   ]
  },
  {
   "cell_type": "markdown",
   "metadata": {},
   "source": [
    "# Model Training"
   ]
  },
  {
   "cell_type": "code",
   "execution_count": null,
   "metadata": {
    "execution": {
     "iopub.execute_input": "2022-10-20T22:00:12.675805Z",
     "iopub.status.busy": "2022-10-20T22:00:12.675136Z",
     "iopub.status.idle": "2022-10-20T22:00:12.803401Z",
     "shell.execute_reply": "2022-10-20T22:00:12.801606Z",
     "shell.execute_reply.started": "2022-10-20T22:00:12.675758Z"
    }
   },
   "outputs": [],
   "source": [
    "from sklearn.naive_bayes import GaussianNB\n",
    "gnb = GaussianNB()\n",
    "gnb.fit(X_train, Y_train)"
   ]
  },
  {
   "cell_type": "code",
   "execution_count": null,
   "metadata": {
    "execution": {
     "iopub.execute_input": "2022-10-20T22:00:15.586745Z",
     "iopub.status.busy": "2022-10-20T22:00:15.586311Z",
     "iopub.status.idle": "2022-10-20T22:00:16.189518Z",
     "shell.execute_reply": "2022-10-20T22:00:16.187962Z",
     "shell.execute_reply.started": "2022-10-20T22:00:15.586711Z"
    }
   },
   "outputs": [],
   "source": [
    "plot_confusion_matrix(gnb,X_train ,Y_train ,values_format='d')"
   ]
  },
  {
   "cell_type": "code",
   "execution_count": null,
   "metadata": {
    "execution": {
     "iopub.execute_input": "2022-10-20T22:00:20.406266Z",
     "iopub.status.busy": "2022-10-20T22:00:20.405818Z",
     "iopub.status.idle": "2022-10-20T22:00:20.746659Z",
     "shell.execute_reply": "2022-10-20T22:00:20.745381Z",
     "shell.execute_reply.started": "2022-10-20T22:00:20.406230Z"
    }
   },
   "outputs": [],
   "source": [
    "plot_confusion_matrix(gnb,X_test ,Y_test ,values_format='d')"
   ]
  },
  {
   "cell_type": "code",
   "execution_count": null,
   "metadata": {
    "execution": {
     "iopub.execute_input": "2022-10-20T22:00:24.363110Z",
     "iopub.status.busy": "2022-10-20T22:00:24.362696Z",
     "iopub.status.idle": "2022-10-20T22:00:24.837663Z",
     "shell.execute_reply": "2022-10-20T22:00:24.836192Z",
     "shell.execute_reply.started": "2022-10-20T22:00:24.363075Z"
    }
   },
   "outputs": [],
   "source": [
    "from sklearn.metrics import classification_report\n",
    "print(classification_report(Y_test, gnb.predict(X_test)))"
   ]
  }
 ],
 "metadata": {
  "kernelspec": {
   "display_name": "Python 3 (ipykernel)",
   "language": "python",
   "name": "python3"
  },
  "language_info": {
   "codemirror_mode": {
    "name": "ipython",
    "version": 3
   },
   "file_extension": ".py",
   "mimetype": "text/x-python",
   "name": "python",
   "nbconvert_exporter": "python",
   "pygments_lexer": "ipython3",
   "version": "3.11.5"
  }
 },
 "nbformat": 4,
 "nbformat_minor": 4
}
